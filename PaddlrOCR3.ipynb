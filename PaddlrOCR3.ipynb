{
  "cells": [
    {
      "cell_type": "code",
      "execution_count": null,
      "metadata": {
        "colab": {
          "base_uri": "https://localhost:8080/"
        },
        "id": "O8QAb9w0n26O",
        "outputId": "83cde195-d015-45ce-fdb6-9e7836b93afc"
      },
      "outputs": [
        {
          "name": "stdout",
          "output_type": "stream",
          "text": [
            "--2022-12-23 12:17:43--  https://paddleocr.bj.bcebos.com/whl/layoutparser-0.0.0-py3-none-any.whl\n",
            "Resolving paddleocr.bj.bcebos.com (paddleocr.bj.bcebos.com)... 103.235.46.61, 2409:8c04:1001:1002:0:ff:b001:368a\n",
            "Connecting to paddleocr.bj.bcebos.com (paddleocr.bj.bcebos.com)|103.235.46.61|:443... connected.\n",
            "HTTP request sent, awaiting response... 200 OK\n",
            "Length: 19145360 (18M) [application/octet-stream]\n",
            "Saving to: ‘layoutparser-0.0.0-py3-none-any.whl’\n",
            "\n",
            "layoutparser-0.0.0- 100%[===================>]  18.26M  3.17MB/s    in 13s     \n",
            "\n",
            "2022-12-23 12:17:57 (1.44 MB/s) - ‘layoutparser-0.0.0-py3-none-any.whl’ saved [19145360/19145360]\n",
            "\n",
            "Looking in indexes: https://pypi.org/simple, https://us-python.pkg.dev/colab-wheels/public/simple/\n",
            "Processing ./layoutparser-0.0.0-py3-none-any.whl\n",
            "Requirement already satisfied: pyyaml>=5.1 in /usr/local/lib/python3.8/dist-packages (from layoutparser==0.0.0) (6.0)\n",
            "Requirement already satisfied: tqdm in /usr/local/lib/python3.8/dist-packages (from layoutparser==0.0.0) (4.64.1)\n",
            "Requirement already satisfied: pillow in /usr/local/lib/python3.8/dist-packages (from layoutparser==0.0.0) (7.1.2)\n",
            "Requirement already satisfied: pandas in /usr/local/lib/python3.8/dist-packages (from layoutparser==0.0.0) (1.3.5)\n",
            "Requirement already satisfied: numpy in /usr/local/lib/python3.8/dist-packages (from layoutparser==0.0.0) (1.21.6)\n",
            "Collecting iopath\n",
            "  Downloading iopath-0.1.10.tar.gz (42 kB)\n",
            "\u001b[K     |████████████████████████████████| 42 kB 850 kB/s \n",
            "\u001b[?25hRequirement already satisfied: opencv-python in /usr/local/lib/python3.8/dist-packages (from layoutparser==0.0.0) (4.6.0.66)\n",
            "Requirement already satisfied: typing_extensions in /usr/local/lib/python3.8/dist-packages (from iopath->layoutparser==0.0.0) (4.4.0)\n",
            "Collecting portalocker\n",
            "  Downloading portalocker-2.6.0-py2.py3-none-any.whl (15 kB)\n",
            "Requirement already satisfied: pytz>=2017.3 in /usr/local/lib/python3.8/dist-packages (from pandas->layoutparser==0.0.0) (2022.6)\n",
            "Requirement already satisfied: python-dateutil>=2.7.3 in /usr/local/lib/python3.8/dist-packages (from pandas->layoutparser==0.0.0) (2.8.2)\n",
            "Requirement already satisfied: six>=1.5 in /usr/local/lib/python3.8/dist-packages (from python-dateutil>=2.7.3->pandas->layoutparser==0.0.0) (1.15.0)\n",
            "Building wheels for collected packages: iopath\n",
            "  Building wheel for iopath (setup.py) ... \u001b[?25l\u001b[?25hdone\n",
            "  Created wheel for iopath: filename=iopath-0.1.10-py3-none-any.whl size=31547 sha256=450d5e2f62e2ab518c771a20a811c42943b140e906c7a0ab70c4d40ad957c2e4\n",
            "  Stored in directory: /root/.cache/pip/wheels/89/3e/24/0f349c0b2eeb6965903035f3b00dbb5c9bea437b4a2f18d82c\n",
            "Successfully built iopath\n",
            "Installing collected packages: portalocker, iopath, layoutparser\n",
            "Successfully installed iopath-0.1.10 layoutparser-0.0.0 portalocker-2.6.0\n"
          ]
        }
      ],
      "source": [
        "!wget https://paddleocr.bj.bcebos.com/whl/layoutparser-0.0.0-py3-none-any.whl\n",
        "!pip install -U layoutparser-0.0.0-py3-none-any.whl"
      ]
    },
    {
      "cell_type": "code",
      "execution_count": null,
      "metadata": {
        "colab": {
          "base_uri": "https://localhost:8080/"
        },
        "id": "_scstb_Qs9qa",
        "outputId": "9257ca2e-a3e8-4a96-cf5b-49deaf999108"
      },
      "outputs": [
        {
          "name": "stdout",
          "output_type": "stream",
          "text": [
            "Cloning into 'PaddleOCR'...\n",
            "remote: Enumerating objects: 45171, done.\u001b[K\n",
            "remote: Counting objects: 100% (302/302), done.\u001b[K\n",
            "remote: Compressing objects: 100% (214/214), done.\u001b[K\n",
            "remote: Total 45171 (delta 142), reused 204 (delta 87), pack-reused 44869\u001b[K\n",
            "Receiving objects: 100% (45171/45171), 338.43 MiB | 20.65 MiB/s, done.\n",
            "Resolving deltas: 100% (31840/31840), done.\n",
            "Checking out files: 100% (1620/1620), done.\n"
          ]
        }
      ],
      "source": [
        "!git clone https://github.com/PaddlePaddle/PaddleOCR.git\n"
      ]
    },
    {
      "cell_type": "code",
      "execution_count": null,
      "metadata": {
        "colab": {
          "base_uri": "https://localhost:8080/"
        },
        "id": "K9qCu6e4tJ37",
        "outputId": "e09b2617-e663-4ba6-d78d-57832da39197"
      },
      "outputs": [
        {
          "name": "stdout",
          "output_type": "stream",
          "text": [
            "Looking in indexes: https://pypi.org/simple, https://us-python.pkg.dev/colab-wheels/public/simple/\n",
            "Collecting paddleocr\n",
            "  Downloading paddleocr-2.6.1.2-py3-none-any.whl (440 kB)\n",
            "\u001b[K     |████████████████████████████████| 440 kB 4.7 MB/s \n",
            "\u001b[?25hCollecting fonttools>=4.24.0\n",
            "  Downloading fonttools-4.38.0-py3-none-any.whl (965 kB)\n",
            "\u001b[K     |████████████████████████████████| 965 kB 51.4 MB/s \n",
            "\u001b[?25hCollecting fire>=0.3.0\n",
            "  Downloading fire-0.5.0.tar.gz (88 kB)\n",
            "\u001b[K     |████████████████████████████████| 88 kB 7.9 MB/s \n",
            "\u001b[?25hRequirement already satisfied: cython in /usr/local/lib/python3.8/dist-packages (from paddleocr) (0.29.32)\n",
            "Requirement already satisfied: opencv-python in /usr/local/lib/python3.8/dist-packages (from paddleocr) (4.6.0.66)\n",
            "Requirement already satisfied: numpy in /usr/local/lib/python3.8/dist-packages (from paddleocr) (1.21.6)\n",
            "Collecting pyclipper\n",
            "  Downloading pyclipper-1.3.0.post4-cp38-cp38-manylinux_2_5_x86_64.manylinux1_x86_64.whl (619 kB)\n",
            "\u001b[K     |████████████████████████████████| 619 kB 57.5 MB/s \n",
            "\u001b[?25hCollecting python-docx\n",
            "  Downloading python-docx-0.8.11.tar.gz (5.6 MB)\n",
            "\u001b[K     |████████████████████████████████| 5.6 MB 52.7 MB/s \n",
            "\u001b[?25hCollecting PyMuPDF<1.21.0\n",
            "  Downloading PyMuPDF-1.20.2-cp38-cp38-manylinux_2_17_x86_64.manylinux2014_x86_64.whl (8.8 MB)\n",
            "\u001b[K     |████████████████████████████████| 8.8 MB 61.8 MB/s \n",
            "\u001b[?25hCollecting premailer\n",
            "  Downloading premailer-3.10.0-py2.py3-none-any.whl (19 kB)\n",
            "Collecting rapidfuzz\n",
            "  Downloading rapidfuzz-2.13.7-cp38-cp38-manylinux_2_17_x86_64.manylinux2014_x86_64.whl (2.2 MB)\n",
            "\u001b[K     |████████████████████████████████| 2.2 MB 53.9 MB/s \n",
            "\u001b[?25hRequirement already satisfied: beautifulsoup4 in /usr/local/lib/python3.8/dist-packages (from paddleocr) (4.6.3)\n",
            "Requirement already satisfied: imgaug in /usr/local/lib/python3.8/dist-packages (from paddleocr) (0.4.0)\n",
            "Collecting pdf2docx\n",
            "  Downloading pdf2docx-0.5.6-py3-none-any.whl (148 kB)\n",
            "\u001b[K     |████████████████████████████████| 148 kB 62.8 MB/s \n",
            "\u001b[?25hRequirement already satisfied: shapely in /usr/local/lib/python3.8/dist-packages (from paddleocr) (2.0.0)\n",
            "Requirement already satisfied: scikit-image in /usr/local/lib/python3.8/dist-packages (from paddleocr) (0.18.3)\n",
            "Requirement already satisfied: openpyxl in /usr/local/lib/python3.8/dist-packages (from paddleocr) (3.0.10)\n",
            "Requirement already satisfied: lxml in /usr/local/lib/python3.8/dist-packages (from paddleocr) (4.9.2)\n",
            "Requirement already satisfied: opencv-contrib-python in /usr/local/lib/python3.8/dist-packages (from paddleocr) (4.6.0.66)\n",
            "Collecting visualdl\n",
            "  Downloading visualdl-2.4.1-py3-none-any.whl (4.9 MB)\n",
            "\u001b[K     |████████████████████████████████| 4.9 MB 52.5 MB/s \n",
            "\u001b[?25hRequirement already satisfied: lmdb in /usr/local/lib/python3.8/dist-packages (from paddleocr) (0.99)\n",
            "Requirement already satisfied: tqdm in /usr/local/lib/python3.8/dist-packages (from paddleocr) (4.64.1)\n",
            "Collecting attrdict\n",
            "  Downloading attrdict-2.0.1-py2.py3-none-any.whl (9.9 kB)\n",
            "Requirement already satisfied: six in /usr/local/lib/python3.8/dist-packages (from fire>=0.3.0->paddleocr) (1.15.0)\n",
            "Requirement already satisfied: termcolor in /usr/local/lib/python3.8/dist-packages (from fire>=0.3.0->paddleocr) (2.1.1)\n",
            "Requirement already satisfied: Pillow in /usr/local/lib/python3.8/dist-packages (from imgaug->paddleocr) (7.1.2)\n",
            "Requirement already satisfied: scipy in /usr/local/lib/python3.8/dist-packages (from imgaug->paddleocr) (1.7.3)\n",
            "Requirement already satisfied: matplotlib in /usr/local/lib/python3.8/dist-packages (from imgaug->paddleocr) (3.2.2)\n",
            "Requirement already satisfied: imageio in /usr/local/lib/python3.8/dist-packages (from imgaug->paddleocr) (2.9.0)\n",
            "Requirement already satisfied: PyWavelets>=1.1.1 in /usr/local/lib/python3.8/dist-packages (from scikit-image->paddleocr) (1.4.1)\n",
            "Requirement already satisfied: tifffile>=2019.7.26 in /usr/local/lib/python3.8/dist-packages (from scikit-image->paddleocr) (2022.10.10)\n",
            "Requirement already satisfied: networkx>=2.0 in /usr/local/lib/python3.8/dist-packages (from scikit-image->paddleocr) (2.8.8)\n",
            "Requirement already satisfied: python-dateutil>=2.1 in /usr/local/lib/python3.8/dist-packages (from matplotlib->imgaug->paddleocr) (2.8.2)\n",
            "Requirement already satisfied: kiwisolver>=1.0.1 in /usr/local/lib/python3.8/dist-packages (from matplotlib->imgaug->paddleocr) (1.4.4)\n",
            "Requirement already satisfied: pyparsing!=2.0.4,!=2.1.2,!=2.1.6,>=2.0.1 in /usr/local/lib/python3.8/dist-packages (from matplotlib->imgaug->paddleocr) (3.0.9)\n",
            "Requirement already satisfied: cycler>=0.10 in /usr/local/lib/python3.8/dist-packages (from matplotlib->imgaug->paddleocr) (0.11.0)\n",
            "Requirement already satisfied: et-xmlfile in /usr/local/lib/python3.8/dist-packages (from openpyxl->paddleocr) (1.1.0)\n",
            "Requirement already satisfied: requests in /usr/local/lib/python3.8/dist-packages (from premailer->paddleocr) (2.23.0)\n",
            "Requirement already satisfied: cachetools in /usr/local/lib/python3.8/dist-packages (from premailer->paddleocr) (5.2.0)\n",
            "Collecting cssselect\n",
            "  Downloading cssselect-1.2.0-py2.py3-none-any.whl (18 kB)\n",
            "Collecting cssutils\n",
            "  Downloading cssutils-2.6.0-py3-none-any.whl (399 kB)\n",
            "\u001b[K     |████████████████████████████████| 399 kB 61.0 MB/s \n",
            "\u001b[?25hRequirement already satisfied: certifi>=2017.4.17 in /usr/local/lib/python3.8/dist-packages (from requests->premailer->paddleocr) (2022.12.7)\n",
            "Requirement already satisfied: chardet<4,>=3.0.2 in /usr/local/lib/python3.8/dist-packages (from requests->premailer->paddleocr) (3.0.4)\n",
            "Requirement already satisfied: urllib3!=1.25.0,!=1.25.1,<1.26,>=1.21.1 in /usr/local/lib/python3.8/dist-packages (from requests->premailer->paddleocr) (1.24.3)\n",
            "Requirement already satisfied: idna<3,>=2.5 in /usr/local/lib/python3.8/dist-packages (from requests->premailer->paddleocr) (2.10)\n",
            "Collecting multiprocess\n",
            "  Downloading multiprocess-0.70.14-py38-none-any.whl (132 kB)\n",
            "\u001b[K     |████████████████████████████████| 132 kB 69.6 MB/s \n",
            "\u001b[?25hCollecting Flask-Babel>=1.0.0\n",
            "  Downloading Flask_Babel-2.0.0-py3-none-any.whl (9.3 kB)\n",
            "Requirement already satisfied: flask>=1.1.1 in /usr/local/lib/python3.8/dist-packages (from visualdl->paddleocr) (1.1.4)\n",
            "Requirement already satisfied: pandas in /usr/local/lib/python3.8/dist-packages (from visualdl->paddleocr) (1.3.5)\n",
            "Requirement already satisfied: packaging in /usr/local/lib/python3.8/dist-packages (from visualdl->paddleocr) (21.3)\n",
            "Collecting bce-python-sdk\n",
            "  Downloading bce_python_sdk-0.8.74-py3-none-any.whl (204 kB)\n",
            "\u001b[K     |████████████████████████████████| 204 kB 67.7 MB/s \n",
            "\u001b[?25hRequirement already satisfied: protobuf>=3.11.0 in /usr/local/lib/python3.8/dist-packages (from visualdl->paddleocr) (3.19.6)\n",
            "Requirement already satisfied: click<8.0,>=5.1 in /usr/local/lib/python3.8/dist-packages (from flask>=1.1.1->visualdl->paddleocr) (7.1.2)\n",
            "Requirement already satisfied: Jinja2<3.0,>=2.10.1 in /usr/local/lib/python3.8/dist-packages (from flask>=1.1.1->visualdl->paddleocr) (2.11.3)\n",
            "Requirement already satisfied: itsdangerous<2.0,>=0.24 in /usr/local/lib/python3.8/dist-packages (from flask>=1.1.1->visualdl->paddleocr) (1.1.0)\n",
            "Requirement already satisfied: Werkzeug<2.0,>=0.15 in /usr/local/lib/python3.8/dist-packages (from flask>=1.1.1->visualdl->paddleocr) (1.0.1)\n",
            "Requirement already satisfied: pytz in /usr/local/lib/python3.8/dist-packages (from Flask-Babel>=1.0.0->visualdl->paddleocr) (2022.6)\n",
            "Requirement already satisfied: Babel>=2.3 in /usr/local/lib/python3.8/dist-packages (from Flask-Babel>=1.0.0->visualdl->paddleocr) (2.11.0)\n",
            "Requirement already satisfied: MarkupSafe>=0.23 in /usr/local/lib/python3.8/dist-packages (from Jinja2<3.0,>=2.10.1->flask>=1.1.1->visualdl->paddleocr) (2.0.1)\n",
            "Collecting pycryptodome>=3.8.0\n",
            "  Downloading pycryptodome-3.16.0-cp35-abi3-manylinux_2_5_x86_64.manylinux1_x86_64.manylinux_2_12_x86_64.manylinux2010_x86_64.whl (2.3 MB)\n",
            "\u001b[K     |████████████████████████████████| 2.3 MB 74.5 MB/s \n",
            "\u001b[?25hRequirement already satisfied: future>=0.6.0 in /usr/local/lib/python3.8/dist-packages (from bce-python-sdk->visualdl->paddleocr) (0.16.0)\n",
            "Requirement already satisfied: dill>=0.3.6 in /usr/local/lib/python3.8/dist-packages (from multiprocess->visualdl->paddleocr) (0.3.6)\n",
            "Building wheels for collected packages: fire, python-docx\n",
            "  Building wheel for fire (setup.py) ... \u001b[?25l\u001b[?25hdone\n",
            "  Created wheel for fire: filename=fire-0.5.0-py2.py3-none-any.whl size=116949 sha256=fe114cc2fd03f8e93fb46d43f0f4bf535b7df0c033df0c3b2dbb6ffad777fdf9\n",
            "  Stored in directory: /root/.cache/pip/wheels/5b/eb/43/7295e71293b218ddfd627f935229bf54af9018add7fbb5aac6\n",
            "  Building wheel for python-docx (setup.py) ... \u001b[?25l\u001b[?25hdone\n",
            "  Created wheel for python-docx: filename=python_docx-0.8.11-py3-none-any.whl size=184505 sha256=c827e18597b2da5254b69036e12ab74acdc6f601728c8fbc65d646edb0798741\n",
            "  Stored in directory: /root/.cache/pip/wheels/32/b8/b2/c4c2b95765e615fe139b0b17b5ea7c0e1b6519b0a9ec8fb34d\n",
            "Successfully built fire python-docx\n",
            "Installing collected packages: pycryptodome, python-docx, PyMuPDF, multiprocess, fonttools, Flask-Babel, fire, cssutils, cssselect, bce-python-sdk, visualdl, rapidfuzz, pyclipper, premailer, pdf2docx, attrdict, paddleocr\n",
            "Successfully installed Flask-Babel-2.0.0 PyMuPDF-1.20.2 attrdict-2.0.1 bce-python-sdk-0.8.74 cssselect-1.2.0 cssutils-2.6.0 fire-0.5.0 fonttools-4.38.0 multiprocess-0.70.14 paddleocr-2.6.1.2 pdf2docx-0.5.6 premailer-3.10.0 pyclipper-1.3.0.post4 pycryptodome-3.16.0 python-docx-0.8.11 rapidfuzz-2.13.7 visualdl-2.4.1\n",
            "Looking in indexes: https://pypi.org/simple, https://us-python.pkg.dev/colab-wheels/public/simple/\n",
            "Collecting paddlepaddle\n",
            "  Downloading paddlepaddle-2.4.1-cp38-cp38-manylinux1_x86_64.whl (121.6 MB)\n",
            "\u001b[K     |████████████████████████████████| 121.6 MB 49 kB/s \n",
            "\u001b[?25hRequirement already satisfied: protobuf<=3.20.0,>=3.1.0 in /usr/local/lib/python3.8/dist-packages (from paddlepaddle) (3.19.6)\n",
            "Collecting paddle-bfloat==0.1.7\n",
            "  Downloading paddle_bfloat-0.1.7-cp38-cp38-manylinux_2_17_x86_64.manylinux2014_x86_64.whl (385 kB)\n",
            "\u001b[K     |████████████████████████████████| 385 kB 41.3 MB/s \n",
            "\u001b[?25hRequirement already satisfied: numpy>=1.13 in /usr/local/lib/python3.8/dist-packages (from paddlepaddle) (1.21.6)\n",
            "Requirement already satisfied: opt-einsum==3.3.0 in /usr/local/lib/python3.8/dist-packages (from paddlepaddle) (3.3.0)\n",
            "Requirement already satisfied: astor in /usr/local/lib/python3.8/dist-packages (from paddlepaddle) (0.8.1)\n",
            "Requirement already satisfied: Pillow in /usr/local/lib/python3.8/dist-packages (from paddlepaddle) (7.1.2)\n",
            "Requirement already satisfied: requests>=2.20.0 in /usr/local/lib/python3.8/dist-packages (from paddlepaddle) (2.23.0)\n",
            "Requirement already satisfied: decorator in /usr/local/lib/python3.8/dist-packages (from paddlepaddle) (4.4.2)\n",
            "Requirement already satisfied: six in /usr/local/lib/python3.8/dist-packages (from paddlepaddle) (1.15.0)\n",
            "Requirement already satisfied: urllib3!=1.25.0,!=1.25.1,<1.26,>=1.21.1 in /usr/local/lib/python3.8/dist-packages (from requests>=2.20.0->paddlepaddle) (1.24.3)\n",
            "Requirement already satisfied: idna<3,>=2.5 in /usr/local/lib/python3.8/dist-packages (from requests>=2.20.0->paddlepaddle) (2.10)\n",
            "Requirement already satisfied: certifi>=2017.4.17 in /usr/local/lib/python3.8/dist-packages (from requests>=2.20.0->paddlepaddle) (2022.12.7)\n",
            "Requirement already satisfied: chardet<4,>=3.0.2 in /usr/local/lib/python3.8/dist-packages (from requests>=2.20.0->paddlepaddle) (3.0.4)\n",
            "Installing collected packages: paddle-bfloat, paddlepaddle\n",
            "Successfully installed paddle-bfloat-0.1.7 paddlepaddle-2.4.1\n"
          ]
        }
      ],
      "source": [
        "!pip install paddleocr --upgrade\n",
        "!pip install paddlepaddle"
      ]
    },
    {
      "cell_type": "code",
      "execution_count": null,
      "metadata": {
        "colab": {
          "base_uri": "https://localhost:8080/",
          "height": 35
        },
        "id": "o2kdT6yryYb8",
        "outputId": "1043543e-5519-4e17-9fac-83f7aac9dcfc"
      },
      "outputs": [
        {
          "data": {
            "application/vnd.google.colaboratory.intrinsic+json": {
              "type": "string"
            },
            "text/plain": [
              "'/content'"
            ]
          },
          "execution_count": 10,
          "metadata": {},
          "output_type": "execute_result"
        }
      ],
      "source": [
        "import os \n",
        "os.getcwd()"
      ]
    },
    {
      "cell_type": "code",
      "execution_count": null,
      "metadata": {
        "colab": {
          "base_uri": "https://localhost:8080/"
        },
        "id": "r-r0a-J6wPu2",
        "outputId": "a8867268-184a-405d-aacf-d8e6d9941d78"
      },
      "outputs": [
        {
          "name": "stdout",
          "output_type": "stream",
          "text": [
            "download https://paddle-model-ecology.bj.bcebos.com/model/layout-parser/ppyolov2_r50vd_dcn_365e_publaynet.tar to /root/.paddledet/inference_model/ppyolov2_r50vd_dcn_365e_publaynet/ppyolov2_r50vd_dcn_365e_publaynet_infer/ppyolov2_r50vd_dcn_365e_publaynet.tar\n"
          ]
        },
        {
          "name": "stderr",
          "output_type": "stream",
          "text": [
            "100%|██████████| 221M/221M [00:30<00:00, 7.36MiB/s]\n"
          ]
        }
      ],
      "source": [
        "import cv2\n",
        "import layoutparser as lp\n",
        "image = cv2.imread(\"/content/drive/MyDrive/test_page_0.jpg\")\n",
        "\n",
        "image = image[..., ::-1]\n",
        "\n",
        "# load model\n",
        "model = lp.PaddleDetectionLayoutModel(config_path=\"lp://PubLayNet/ppyolov2_r50vd_dcn_365e_publaynet/config\",\n",
        "                                threshold=0.001,\n",
        "                                label_map={0: \"Text\", 1: \"Title\", 2: \"List\", 3:\"Table\", 4:\"Figure\"},\n",
        "                                enforce_cpu=False,\n",
        "                                enable_mkldnn=True)#math kernel library\n",
        "# detect\n",
        "layout = model.detect(image)"
      ]
    },
    {
      "cell_type": "code",
      "execution_count": null,
      "metadata": {
        "colab": {
          "base_uri": "https://localhost:8080/"
        },
        "id": "aOpyg7Y_xGDn",
        "outputId": "4709430a-fbdf-40c3-df7b-bc787c3b2221"
      },
      "outputs": [
        {
          "data": {
            "text/plain": [
              "Layout(_blocks=[TextBlock(block=Rectangle(x_1=166.6832275390625, y_1=239.47528076171875, x_2=3438.9248046875, y_2=2143.7890625), text=None, id=None, type=Figure, parent=None, next=None, score=0.8252013921737671), TextBlock(block=Rectangle(x_1=421.2509765625, y_1=307.0228271484375, x_2=3508.0, y_2=2480.0), text=None, id=None, type=Figure, parent=None, next=None, score=0.19035139679908752), TextBlock(block=Rectangle(x_1=276.4716796875, y_1=304.833984375, x_2=3419.78857421875, y_2=2480.0), text=None, id=None, type=Figure, parent=None, next=None, score=0.14170774817466736), TextBlock(block=Rectangle(x_1=0.0, y_1=138.22119140625, x_2=3389.567138671875, y_2=2448.619873046875), text=None, id=None, type=Figure, parent=None, next=None, score=0.11634346842765808), TextBlock(block=Rectangle(x_1=402.8016357421875, y_1=176.1131591796875, x_2=3508.0, y_2=2436.8779296875), text=None, id=None, type=Figure, parent=None, next=None, score=0.11172255873680115), TextBlock(block=Rectangle(x_1=55.6795654296875, y_1=310.776611328125, x_2=3302.05224609375, y_2=2478.49609375), text=None, id=None, type=Figure, parent=None, next=None, score=0.10498601943254471), TextBlock(block=Rectangle(x_1=200.0191650390625, y_1=152.326171875, x_2=3457.69482421875, y_2=2448.58056640625), text=None, id=None, type=Figure, parent=None, next=None, score=0.1025470644235611)], page_data={})"
            ]
          },
          "execution_count": 57,
          "metadata": {},
          "output_type": "execute_result"
        }
      ],
      "source": [
        "layout"
      ]
    },
    {
      "cell_type": "code",
      "execution_count": null,
      "metadata": {
        "colab": {
          "base_uri": "https://localhost:8080/",
          "height": 34
        },
        "id": "sbqm4GBaxl5L",
        "outputId": "ff472baf-0436-4505-e27e-4e4587c6233a"
      },
      "outputs": [
        {
          "data": {
            "text/plain": [
              "<Figure size 1152x1152 with 0 Axes>"
            ]
          },
          "metadata": {},
          "output_type": "display_data"
        }
      ],
      "source": [
        "import matplotlib.pyplot as plt \n",
        "\n",
        "show_img=lp.draw_box(image, layout , box_width=3 , show_element_type=True)\n",
        "plt.figure(figsize=(16,16))\n",
        "plt.show(show_img)\n",
        "#show_img.show()"
      ]
    },
    {
      "cell_type": "code",
      "execution_count": 1,
      "metadata": {
        "colab": {
          "base_uri": "https://localhost:8080/",
          "height": 623
        },
        "id": "1JxsNHFczFyt",
        "outputId": "4805a9a5-c9e8-4db5-c539-b82cb86261ee"
      },
      "outputs": [],
      "source": [
        "lp.draw_box(image, layout, box_width=3)"
      ]
    },
    {
      "cell_type": "code",
      "execution_count": null,
      "metadata": {
        "colab": {
          "base_uri": "https://localhost:8080/"
        },
        "id": "6kRhTQbh1d6t",
        "outputId": "cc9f9b1e-1c5d-4600-f814-50b3f3e468e7"
      },
      "outputs": [
        {
          "name": "stdout",
          "output_type": "stream",
          "text": [
            "TextBlock(block=Rectangle(x_1=2440.7685546875, y_1=325.8374938964844, x_2=2967.95263671875, y_2=466.6182556152344), text=None, id=None, type=Table, parent=None, next=None, score=0.1170496866106987)\n",
            "\n",
            "TextBlock(block=Rectangle(x_1=0.0, y_1=33.49462890625, x_2=3508.0, y_2=2460.1455078125), text=None, id=None, type=Table, parent=None, next=None, score=0.05602971464395523)\n"
          ]
        }
      ],
      "source": [
        "table_blocks = lp.Layout([b for b in layout if b.type=='Table'])\n",
        "print(table_blocks[0])\n",
        "print(\"\")\n",
        "print(table_blocks[1])\n"
      ]
    },
    {
      "cell_type": "code",
      "execution_count": 2,
      "metadata": {
        "colab": {
          "base_uri": "https://localhost:8080/",
          "height": 623
        },
        "id": "K-ZV9FoC2RoE",
        "outputId": "5b932091-f196-46a8-8d42-65a279e1d2c0"
      },
      "outputs": [],
      "source": [
        "lp.draw_box(image, table_blocks,\n",
        "            box_width=3,\n",
        "            show_element_id=True)"
      ]
    },
    {
      "cell_type": "code",
      "execution_count": null,
      "metadata": {
        "colab": {
          "base_uri": "https://localhost:8080/"
        },
        "id": "15GARuxX7mwU",
        "outputId": "2c9bdeae-b18d-4c03-fe68-d8d920ede282"
      },
      "outputs": [
        {
          "name": "stdout",
          "output_type": "stream",
          "text": [
            "2440 325 2967 466\n"
          ]
        },
        {
          "data": {
            "text/plain": [
              "True"
            ]
          },
          "execution_count": 38,
          "metadata": {},
          "output_type": "execute_result"
        }
      ],
      "source": [
        "for l in layout:\n",
        "  if l.type == 'Table':\n",
        "    x_1 = int(l.block.x_1)\n",
        "    #print(l.block.x_1)\n",
        "    y_1 = int(l.block.y_1)\n",
        "    x_2 = int(l.block.x_2)\n",
        "    y_2 = int(l.block.y_2)\n",
        "    break\n",
        "    \n",
        "print(x_1 , y_1 , x_2 , y_2)\n",
        "im_crop=image[y_1:y_2,x_1:x_2]\n",
        "cv2.imwrite('/content/im_crop.jpg',im_crop)"
      ]
    },
    {
      "cell_type": "markdown",
      "metadata": {
        "id": "t240jr_A9C5T"
      },
      "source": [
        "**Text Detection**"
      ]
    },
    {
      "cell_type": "code",
      "execution_count": null,
      "metadata": {
        "colab": {
          "base_uri": "https://localhost:8080/"
        },
        "id": "LpMNS5R-9SKC",
        "outputId": "970dd6d9-39cc-409d-8730-f920e99dbad7"
      },
      "outputs": [
        {
          "name": "stdout",
          "output_type": "stream",
          "text": [
            "[2022/12/20 10:48:00] ppocr DEBUG: Namespace(alpha=1.0, benchmark=False, beta=1.0, cls_batch_num=6, cls_image_shape='3, 48, 192', cls_model_dir='/root/.paddleocr/whl/cls/ch_ppocr_mobile_v2.0_cls_infer', cls_thresh=0.9, cpu_threads=10, crop_res_save_dir='./output', det=True, det_algorithm='DB', det_box_type='quad', det_db_box_thresh=0.6, det_db_score_mode='fast', det_db_thresh=0.3, det_db_unclip_ratio=1.5, det_east_cover_thresh=0.1, det_east_nms_thresh=0.2, det_east_score_thresh=0.8, det_limit_side_len=960, det_limit_type='max', det_model_dir='/root/.paddleocr/whl/det/en/en_PP-OCRv3_det_infer', det_pse_box_thresh=0.85, det_pse_min_area=16, det_pse_scale=1, det_pse_thresh=0, det_sast_nms_thresh=0.2, det_sast_score_thresh=0.5, draw_img_save_dir='./inference_results', drop_score=0.5, e2e_algorithm='PGNet', e2e_char_dict_path='./ppocr/utils/ic15_dict.txt', e2e_limit_side_len=768, e2e_limit_type='max', e2e_model_dir=None, e2e_pgnet_mode='fast', e2e_pgnet_score_thresh=0.5, e2e_pgnet_valid_set='totaltext', enable_mkldnn=False, fourier_degree=5, gpu_mem=500, help='==SUPPRESS==', image_dir=None, image_orientation=False, ir_optim=True, kie_algorithm='LayoutXLM', label_list=['0', '180'], lang='en', layout=True, layout_dict_path=None, layout_model_dir=None, layout_nms_threshold=0.5, layout_score_threshold=0.5, max_batch_size=10, max_text_length=25, merge_no_span_structure=True, min_subgraph_size=15, mode='structure', ocr=True, ocr_order_method=None, ocr_version='PP-OCRv3', output='./output', page_num=0, precision='fp32', process_id=0, re_model_dir=None, rec=True, rec_algorithm='SVTR_LCNet', rec_batch_num=6, rec_char_dict_path='/usr/local/lib/python3.8/dist-packages/paddleocr/ppocr/utils/en_dict.txt', rec_image_inverse=True, rec_image_shape='3, 48, 320', rec_model_dir='/root/.paddleocr/whl/rec/en/en_PP-OCRv3_rec_infer', recovery=False, save_crop_res=False, save_log_path='./log_output/', scales=[8, 16, 32], ser_dict_path='../train_data/XFUND/class_list_xfun.txt', ser_model_dir=None, show_log=True, sr_batch_num=1, sr_image_shape='3, 32, 128', sr_model_dir=None, structure_version='PP-StructureV2', table=True, table_algorithm='TableAttn', table_char_dict_path=None, table_max_len=488, table_model_dir=None, total_process_num=1, type='ocr', use_angle_cls=False, use_dilation=False, use_gpu=False, use_mp=False, use_npu=False, use_onnx=False, use_pdf2docx_api=False, use_pdserving=False, use_space_char=True, use_tensorrt=False, use_visual_backbone=True, use_xpu=False, vis_font_path='./doc/fonts/simfang.ttf', warmup=False)\n",
            "[2022/12/20 10:48:00] ppocr WARNING: Since the angle classifier is not initialized, the angle classifier will not be uesd during the forward process\n",
            "[2022/12/20 10:48:01] ppocr DEBUG: dt_boxes num : 71, elapse : 0.7267000675201416\n",
            "[2022/12/20 10:48:07] ppocr DEBUG: rec_res num  : 71, elapse : 6.226696729660034\n",
            "[2022/12/20 10:48:07] ppocr WARNING: Since the angle classifier is not initialized, the angle classifier will not be uesd during the forward process\n",
            "[2022/12/20 10:48:07] ppocr DEBUG: dt_boxes num : 48, elapse : 0.1006474494934082\n",
            "[2022/12/20 10:48:12] ppocr DEBUG: rec_res num  : 48, elapse : 4.351517677307129\n"
          ]
        }
      ],
      "source": [
        "from paddleocr import PaddleOCR, draw_ocr\n",
        "\n",
        "ocr=PaddleOCR(lang='en')\n",
        "img_path='/content/drive/MyDrive/test_page_0.jpg'\n",
        "img_path_2='/content/im_crop.jpg'\n",
        "output = ocr.ocr(img_path)[0]\n",
        "output_2 = ocr.ocr(img_path_2)[0]"
      ]
    },
    {
      "cell_type": "code",
      "execution_count": null,
      "metadata": {
        "colab": {
          "base_uri": "https://localhost:8080/"
        },
        "id": "HNKh-JEpFQ60",
        "outputId": "818f66f4-b803-4316-fd05-9c0122ed497d"
      },
      "outputs": [
        {
          "name": "stdout",
          "output_type": "stream",
          "text": [
            "[2022/12/20 10:32:29] ppocr WARNING: Since the angle classifier is not initialized, the angle classifier will not be uesd during the forward process\n"
          ]
        },
        {
          "data": {
            "text/plain": [
              "[[[[48.0, 2138.0], [84.0, 2138.0], [84.0, 2374.0], [48.0, 2374.0]],\n",
              "  [[3429.0, 1990.0], [3458.0, 1990.0], [3458.0, 2027.0], [3429.0, 2027.0]],\n",
              "  [[2760.0, 1986.0], [2844.0, 1986.0], [2844.0, 2012.0], [2760.0, 2012.0]],\n",
              "  [[3429.0, 1960.0], [3458.0, 1960.0], [3458.0, 1997.0], [3429.0, 1997.0]],\n",
              "  [[3429.0, 1931.0], [3458.0, 1931.0], [3458.0, 1968.0], [3429.0, 1968.0]],\n",
              "  [[826.0, 1912.0], [866.0, 1912.0], [866.0, 1938.0], [826.0, 1938.0]],\n",
              "  [[3429.0, 1901.0], [3458.0, 1901.0], [3458.0, 1938.0], [3429.0, 1938.0]],\n",
              "  [[3429.0, 1872.0], [3458.0, 1872.0], [3458.0, 1909.0], [3429.0, 1909.0]],\n",
              "  [[3429.0, 1846.0], [3458.0, 1846.0], [3458.0, 1879.0], [3429.0, 1879.0]],\n",
              "  [[801.0, 1837.0], [822.0, 1823.0], [833.0, 1840.0], [812.0, 1854.0]],\n",
              "  [[3429.0, 1787.0], [3458.0, 1787.0], [3458.0, 1846.0], [3429.0, 1846.0]],\n",
              "  [[3432.0, 1724.0], [3458.0, 1724.0], [3458.0, 1783.0], [3432.0, 1783.0]],\n",
              "  [[797.0, 1720.0], [852.0, 1720.0], [852.0, 1746.0], [797.0, 1746.0]],\n",
              "  [[3432.0, 1691.0], [3458.0, 1691.0], [3458.0, 1732.0], [3432.0, 1732.0]],\n",
              "  [[1820.0, 1661.0], [1963.0, 1661.0], [1963.0, 1687.0], [1820.0, 1687.0]],\n",
              "  [[3429.0, 1636.0], [3458.0, 1636.0], [3458.0, 1698.0], [3429.0, 1698.0]],\n",
              "  [[1824.0, 1636.0], [2029.0, 1636.0], [2029.0, 1661.0], [1824.0, 1661.0]],\n",
              "  [[742.0, 1632.0], [855.0, 1632.0], [855.0, 1658.0], [742.0, 1658.0]],\n",
              "  [[1056.0, 1606.0], [1265.0, 1606.0], [1265.0, 1643.0], [1056.0, 1643.0]],\n",
              "  [[3429.0, 1606.0], [3458.0, 1606.0], [3458.0, 1643.0], [3429.0, 1643.0]],\n",
              "  [[694.0, 1599.0], [906.0, 1599.0], [906.0, 1636.0], [694.0, 1636.0]],\n",
              "  [[3429.0, 1576.0], [3458.0, 1576.0], [3458.0, 1613.0], [3429.0, 1613.0]],\n",
              "  [[3429.0, 1551.0], [3458.0, 1551.0], [3458.0, 1584.0], [3429.0, 1584.0]],\n",
              "  [[3429.0, 1521.0], [3458.0, 1521.0], [3458.0, 1554.0], [3429.0, 1554.0]],\n",
              "  [[691.0, 1484.0], [749.0, 1484.0], [749.0, 1510.0], [691.0, 1510.0]],\n",
              "  [[716.0, 1373.0], [855.0, 1373.0], [855.0, 1458.0], [716.0, 1458.0]],\n",
              "  [[1109.0, 1365.0], [1233.0, 1374.0], [1230.0, 1415.0], [1107.0, 1406.0]],\n",
              "  [[1118.0, 1351.0], [1221.0, 1351.0], [1221.0, 1377.0], [1118.0, 1377.0]],\n",
              "  [[691.0, 1303.0], [731.0, 1303.0], [731.0, 1333.0], [691.0, 1333.0]],\n",
              "  [[48.0, 1259.0], [84.0, 1259.0], [84.0, 2086.0], [48.0, 2086.0]],\n",
              "  [[757.0, 1244.0], [822.0, 1244.0], [822.0, 1307.0], [757.0, 1307.0]],\n",
              "  [[1067.0, 1137.0], [1279.0, 1137.0], [1279.0, 1174.0], [1067.0, 1174.0]],\n",
              "  [[731.0, 1130.0], [852.0, 1130.0], [852.0, 1156.0], [731.0, 1156.0]],\n",
              "  [[684.0, 1100.0], [899.0, 1100.0], [899.0, 1137.0], [684.0, 1137.0]],\n",
              "  [[3432.0, 1100.0], [3458.0, 1100.0], [3458.0, 1229.0], [3432.0, 1229.0]],\n",
              "  [[1042.0, 1060.0], [1173.0, 1060.0], [1173.0, 1085.0], [1042.0, 1085.0]],\n",
              "  [[1053.0, 1023.0], [1133.0, 1023.0], [1133.0, 1052.0], [1053.0, 1052.0]],\n",
              "  [[51.0, 938.0], [77.0, 938.0], [77.0, 1030.0], [51.0, 1030.0]],\n",
              "  [[727.0, 923.0], [837.0, 923.0], [837.0, 949.0], [727.0, 949.0]],\n",
              "  [[1798.0, 882.0], [1999.0, 882.0], [1999.0, 919.0], [1798.0, 919.0]],\n",
              "  [[1455.0, 875.0], [1659.0, 875.0], [1659.0, 901.0], [1455.0, 901.0]],\n",
              "  [[658.0, 834.0], [705.0, 834.0], [705.0, 860.0], [658.0, 860.0]],\n",
              "  [[3432.0, 820.0], [3458.0, 820.0], [3458.0, 1067.0], [3432.0, 1067.0]],\n",
              "  [[51.0, 820.0], [77.0, 820.0], [77.0, 945.0], [51.0, 945.0]],\n",
              "  [[1571.0, 784.0], [1694.0, 774.0], [1697.0, 811.0], [1573.0, 821.0]],\n",
              "  [[1410.0, 770.0], [1529.0, 784.0], [1525.0, 821.0], [1406.0, 807.0]],\n",
              "  [[51.0, 761.0], [77.0, 761.0], [77.0, 827.0], [51.0, 827.0]],\n",
              "  [[3432.0, 742.0], [3458.0, 742.0], [3458.0, 768.0], [3432.0, 768.0]],\n",
              "  [[3432.0, 713.0], [3458.0, 713.0], [3458.0, 738.0], [3432.0, 738.0]],\n",
              "  [[51.0, 705.0], [80.0, 705.0], [80.0, 768.0], [51.0, 768.0]],\n",
              "  [[1685.0, 687.0], [1744.0, 687.0], [1744.0, 716.0], [1685.0, 716.0]],\n",
              "  [[3432.0, 683.0], [3458.0, 683.0], [3458.0, 709.0], [3432.0, 709.0]],\n",
              "  [[41.0, 679.0], [72.0, 669.0], [84.0, 705.0], [53.0, 716.0]],\n",
              "  [[3429.0, 646.0], [3458.0, 646.0], [3458.0, 683.0], [3429.0, 683.0]],\n",
              "  [[55.0, 650.0], [77.0, 650.0], [77.0, 683.0], [55.0, 683.0]],\n",
              "  [[3429.0, 617.0], [3458.0, 617.0], [3458.0, 653.0], [3429.0, 653.0]],\n",
              "  [[55.0, 620.0], [73.0, 620.0], [73.0, 646.0], [55.0, 646.0]],\n",
              "  [[3436.0, 591.0], [3458.0, 591.0], [3458.0, 624.0], [3436.0, 624.0]],\n",
              "  [[3436.0, 561.0], [3458.0, 561.0], [3458.0, 594.0], [3436.0, 594.0]],\n",
              "  [[1060.0, 509.0], [1115.0, 509.0], [1115.0, 535.0], [1060.0, 535.0]],\n",
              "  [[1283.0, 506.0], [1334.0, 506.0], [1334.0, 532.0], [1283.0, 532.0]],\n",
              "  [[3432.0, 498.0], [3458.0, 498.0], [3458.0, 565.0], [3432.0, 565.0]],\n",
              "  [[943.0, 458.0], [1045.0, 458.0], [1045.0, 498.0], [943.0, 498.0]],\n",
              "  [[1338.0, 436.0], [1378.0, 436.0], [1378.0, 461.0], [1338.0, 461.0]],\n",
              "  [[1546.0, 377.0], [1656.0, 377.0], [1656.0, 402.0], [1546.0, 402.0]],\n",
              "  [[3445.0, 349.0], [3465.0, 369.0], [3449.0, 386.0], [3429.0, 366.0]],\n",
              "  [[3436.0, 325.0], [3458.0, 325.0], [3458.0, 358.0], [3436.0, 358.0]],\n",
              "  [[55.0, 299.0], [73.0, 299.0], [73.0, 321.0], [55.0, 321.0]],\n",
              "  [[55.0, 270.0], [73.0, 270.0], [73.0, 295.0], [55.0, 295.0]],\n",
              "  [[51.0, 207.0], [77.0, 207.0], [77.0, 262.0], [51.0, 262.0]],\n",
              "  [[55.0, 181.0], [73.0, 181.0], [73.0, 203.0], [55.0, 203.0]]]]"
            ]
          },
          "execution_count": 32,
          "metadata": {},
          "output_type": "execute_result"
        }
      ],
      "source": [
        "result_det = ocr.ocr(img_path, rec=False)\n",
        "result_det"
      ]
    },
    {
      "cell_type": "code",
      "execution_count": null,
      "metadata": {
        "colab": {
          "base_uri": "https://localhost:8080/"
        },
        "id": "Ka8C-nGZF8In",
        "outputId": "a470931e-d340-4fdd-fbfc-c5745acbeb2c"
      },
      "outputs": [
        {
          "name": "stdout",
          "output_type": "stream",
          "text": [
            "[2022/12/20 10:34:21] ppocr WARNING: Since the angle classifier is not initialized, the angle classifier will not be uesd during the forward process\n",
            "[[[55.0, 181.0], [73.0, 181.0], [73.0, 203.0], [55.0, 203.0]], ('5', 0.922879695892334)]\n",
            "[[[55.0, 270.0], [73.0, 270.0], [73.0, 295.0], [55.0, 295.0]], ('8', 0.7052932381629944)]\n",
            "[[[55.0, 299.0], [73.0, 299.0], [73.0, 321.0], [55.0, 321.0]], ('9', 0.7641038298606873)]\n",
            "[[[3436.0, 325.0], [3458.0, 325.0], [3458.0, 358.0], [3436.0, 358.0]], ('12', 0.5997086763381958)]\n",
            "[[[1546.0, 377.0], [1656.0, 377.0], [1656.0, 402.0], [1546.0, 402.0]], ('02A101073', 0.909290075302124)]\n",
            "[[[1338.0, 436.0], [1378.0, 436.0], [1378.0, 461.0], [1338.0, 461.0]], ('2A0', 0.9833111763000488)]\n",
            "[[[943.0, 458.0], [1045.0, 458.0], [1045.0, 498.0], [943.0, 498.0]], ('42A013 02A04', 0.7703315615653992)]\n",
            "[[[1283.0, 506.0], [1334.0, 506.0], [1334.0, 532.0], [1283.0, 532.0]], ('465', 0.995291531085968)]\n",
            "[[[1060.0, 509.0], [1115.0, 509.0], [1115.0, 535.0], [1060.0, 535.0]], ('415 5', 0.9813364148139954)]\n",
            "[[[55.0, 620.0], [73.0, 620.0], [73.0, 646.0], [55.0, 646.0]], ('20', 0.9972925186157227)]\n",
            "[[[3429.0, 617.0], [3458.0, 617.0], [3458.0, 653.0], [3429.0, 653.0]], ('20', 0.96437007188797)]\n",
            "[[[3429.0, 646.0], [3458.0, 646.0], [3458.0, 683.0], [3429.0, 683.0]], ('21', 0.7307055592536926)]\n",
            "[[[41.0, 679.0], [72.0, 669.0], [84.0, 705.0], [53.0, 716.0]], ('22', 0.7737978100776672)]\n",
            "[[[1685.0, 687.0], [1744.0, 687.0], [1744.0, 716.0], [1685.0, 716.0]], ('2A021', 0.6538782715797424)]\n",
            "[[[3432.0, 683.0], [3458.0, 683.0], [3458.0, 709.0], [3432.0, 709.0]], ('22', 0.9775133728981018)]\n",
            "[[[3432.0, 713.0], [3458.0, 713.0], [3458.0, 738.0], [3432.0, 738.0]], ('23', 0.9831101298332214)]\n",
            "[[[3432.0, 742.0], [3458.0, 742.0], [3458.0, 768.0], [3432.0, 768.0]], ('24', 0.9851068258285522)]\n",
            "[[[51.0, 761.0], [77.0, 761.0], [77.0, 827.0], [51.0, 827.0]], ('1', 0.5634575486183167)]\n",
            "[[[1410.0, 770.0], [1529.0, 784.0], [1525.0, 821.0], [1406.0, 807.0]], ('D1D0104 0.2', 0.7809905409812927)]\n",
            "[[[1571.0, 784.0], [1694.0, 774.0], [1697.0, 811.0], [1573.0, 821.0]], ('070.2D1A0', 0.8798320889472961)]\n",
            "[[[1455.0, 875.0], [1659.0, 875.0], [1659.0, 901.0], [1455.0, 901.0]], ('SECTION VIEW I-I', 0.9548301100730896)]\n",
            "[[[1798.0, 882.0], [1999.0, 882.0], [1999.0, 919.0], [1798.0, 919.0]], ('SECTION VIEW J-J', 0.9883766174316406)]\n",
            "[[[727.0, 923.0], [837.0, 923.0], [837.0, 949.0], [727.0, 949.0]], ('SCALE 2:1', 0.957648515701294)]\n",
            "[[[1053.0, 1023.0], [1133.0, 1023.0], [1133.0, 1052.0], [1053.0, 1052.0]], ('1O(MIN)', 0.873197615146637)]\n",
            "[[[684.0, 1100.0], [899.0, 1100.0], [899.0, 1137.0], [684.0, 1137.0]], ('SECTION VIEW E-E', 0.9551244974136353)]\n",
            "[[[731.0, 1130.0], [852.0, 1130.0], [852.0, 1156.0], [731.0, 1156.0]], ('SCALE 2:1', 0.9749000072479248)]\n",
            "[[[1067.0, 1137.0], [1279.0, 1137.0], [1279.0, 1174.0], [1067.0, 1174.0]], ('SECTION VIEW F-F', 0.9738926887512207)]\n",
            "[[[757.0, 1244.0], [822.0, 1244.0], [822.0, 1307.0], [757.0, 1307.0]], ('n', 0.8277342319488525)]\n",
            "[[[48.0, 1259.0], [84.0, 1259.0], [84.0, 2086.0], [48.0, 2086.0]], ('Ty Iz Ig 1g Ig Iz Ig Ig Ig 1n 1x In Ix 1p 1x In Ig Ig g Is Ix IB Ig 1g 1g Io Ig Ig', 0.625737190246582)]\n",
            "[[[691.0, 1303.0], [731.0, 1303.0], [731.0, 1333.0], [691.0, 1333.0]], ('LE', 0.7092126607894897)]\n",
            "[[[1118.0, 1351.0], [1221.0, 1351.0], [1221.0, 1377.0], [1118.0, 1377.0]], ('DETAIL D', 0.9658677577972412)]\n",
            "[[[1109.0, 1365.0], [1233.0, 1374.0], [1230.0, 1415.0], [1107.0, 1406.0]], ('SCALE 2:1', 0.9683549404144287)]\n",
            "[[[3429.0, 1521.0], [3458.0, 1521.0], [3458.0, 1554.0], [3429.0, 1554.0]], ('51', 0.7499770522117615)]\n",
            "[[[3429.0, 1551.0], [3458.0, 1551.0], [3458.0, 1584.0], [3429.0, 1584.0]], ('52', 0.781704306602478)]\n",
            "[[[3429.0, 1576.0], [3458.0, 1576.0], [3458.0, 1613.0], [3429.0, 1613.0]], ('53', 0.9515118598937988)]\n",
            "[[[694.0, 1599.0], [906.0, 1599.0], [906.0, 1636.0], [694.0, 1636.0]], ('SECTION VIEW G-G', 0.9774464964866638)]\n",
            "[[[1056.0, 1606.0], [1265.0, 1606.0], [1265.0, 1643.0], [1056.0, 1643.0]], ('SECTION VIEW H-H', 0.9780686497688293)]\n",
            "[[[3429.0, 1606.0], [3458.0, 1606.0], [3458.0, 1643.0], [3429.0, 1643.0]], ('54', 0.7145200967788696)]\n",
            "[[[742.0, 1632.0], [855.0, 1632.0], [855.0, 1658.0], [742.0, 1658.0]], ('SCALE 2:1', 0.9725317358970642)]\n",
            "[[[1824.0, 1636.0], [2029.0, 1636.0], [2029.0, 1661.0], [1824.0, 1661.0]], ('AXONOMETRIC VIEW', 0.9820309281349182)]\n",
            "[[[1820.0, 1661.0], [1963.0, 1661.0], [1963.0, 1687.0], [1820.0, 1687.0]], ('SCALE 3:10', 0.9459025263786316)]\n",
            "[[[797.0, 1720.0], [852.0, 1720.0], [852.0, 1746.0], [797.0, 1746.0]], ('ESIVE TAP', 0.8987845182418823)]\n",
            "[[[3429.0, 1846.0], [3458.0, 1846.0], [3458.0, 1879.0], [3429.0, 1879.0]], ('62', 0.8492540717124939)]\n",
            "[[[3429.0, 1872.0], [3458.0, 1872.0], [3458.0, 1909.0], [3429.0, 1909.0]], ('63', 0.8154376745223999)]\n",
            "[[[3429.0, 1901.0], [3458.0, 1901.0], [3458.0, 1938.0], [3429.0, 1938.0]], ('64', 0.830532968044281)]\n",
            "[[[826.0, 1912.0], [866.0, 1912.0], [866.0, 1938.0], [826.0, 1938.0]], ('ONNECT', 0.995785653591156)]\n",
            "[[[3429.0, 1931.0], [3458.0, 1931.0], [3458.0, 1968.0], [3429.0, 1968.0]], ('65', 0.9482544660568237)]\n",
            "[[[3429.0, 1960.0], [3458.0, 1960.0], [3458.0, 1997.0], [3429.0, 1997.0]], ('66', 0.9348065853118896)]\n",
            "[[[2760.0, 1986.0], [2844.0, 1986.0], [2844.0, 2012.0], [2760.0, 2012.0]], ('MA0001797', 0.9904462099075317)]\n",
            "[[[3429.0, 1990.0], [3458.0, 1990.0], [3458.0, 2027.0], [3429.0, 2027.0]], ('67', 0.6995469331741333)]\n",
            "[[[48.0, 2138.0], [84.0, 2138.0], [84.0, 2374.0], [48.0, 2374.0]], ('Tz Ip 1z Ip Ipe IF 1p lp', 0.6565384864807129)]\n"
          ]
        }
      ],
      "source": [
        "result_rec = ocr.ocr(img_path, det=False)\n",
        "for line in output: \n",
        "  print(line)"
      ]
    },
    {
      "cell_type": "code",
      "execution_count": null,
      "metadata": {
        "id": "fEtFXvL6Gti_"
      },
      "outputs": [],
      "source": [
        "boxes = [line[0] for line in output_2]\n",
        "texts = [line[1][0] for line in output_2]\n",
        "probabilities = [line[1][1] for line in output_2]"
      ]
    },
    {
      "cell_type": "code",
      "execution_count": null,
      "metadata": {
        "colab": {
          "base_uri": "https://localhost:8080/"
        },
        "id": "vnRFcO7QGEAq",
        "outputId": "9558a4fa-748e-4509-db19-b53ce62175bc"
      },
      "outputs": [
        {
          "data": {
            "text/plain": [
              "['-',\n",
              " '5',\n",
              " '3',\n",
              " '1',\n",
              " '2',\n",
              " '1',\n",
              " 'NIVEL',\n",
              " 'POS.',\n",
              " 'MODIFICACIONES/MODIFICATIONS',\n",
              " 'CRNS',\n",
              " 'FECHA',\n",
              " 'DIBUJADO',\n",
              " 'APROBADO',\n",
              " 'LEVEL',\n",
              " 'GRID',\n",
              " 'DATE',\n",
              " 'DRAIN',\n",
              " 'APPROVED',\n",
              " 'A0O',\n",
              " 'CREACION PLANO/DRAWING CREATION',\n",
              " '5/SEP/2017',\n",
              " 'A.MACIAS',\n",
              " 'J.MAESE',\n",
              " 'ADT',\n",
              " 'P1612',\n",
              " 'CLIPS POSITION CORRECTED AND TOLERANCE MOOFIED',\n",
              " '------',\n",
              " '22/AN/2018',\n",
              " 'A.WACTAS',\n",
              " 'J.MRESE',\n",
              " 'A02',\n",
              " '-..',\n",
              " 'UPDATED WEIGHT (MEASUREDAND ADDED ADHESIVE TAPE',\n",
              " 'ADHESIVE TAPE DISPLACED',\n",
              " '----..---',\n",
              " '23/MAY/2018',\n",
              " 'A.WACIAS',\n",
              " 'J.MRESE',\n",
              " '803',\n",
              " 'POS.NRO.6 REDUCE HOSE LENHT BY 90Rn',\n",
              " 'POS.NRO.4TURN 90 DEGREES3 CLIPS',\n",
              " '14/DEC/2018',\n",
              " 'A.WACIAS',\n",
              " 'J.NAESE']"
            ]
          },
          "execution_count": 41,
          "metadata": {},
          "output_type": "execute_result"
        }
      ],
      "source": [
        "texts"
      ]
    },
    {
      "cell_type": "code",
      "execution_count": 3,
      "metadata": {
        "colab": {
          "base_uri": "https://localhost:8080/",
          "height": 636
        },
        "id": "aFOvs5pULjxt",
        "outputId": "0989e726-d9b1-48a7-ca32-10b93ffaaffa"
      },
      "outputs": [],
      "source": [
        "import math \n",
        "import numpy as np \n",
        "import cv2 as cv \n",
        "\n",
        "#img_path='/content/drive/Mydrive/test_page_0.jpg'\n",
        "#image=cv2.imread('/content/drive/Mydrive/test_page_0.jpg')\n",
        "masque = np.zeros(image.shape[:2], dtype=\"uint8\")\n",
        "epaisseur = int(math.sqrt(( x_2 - x_1)**2 + (y_2 - y_1)**2 ))\n",
        "img4_mask=cv2.line(masque, (x_1, y_1), (x_2,y_2), 255, epaisseur) #645, 1719, 59, 11\n",
        "masked = cv2.bitwise_and(image, image, mask=masque) \n",
        "plt.figure(figsize=(16,16))\n",
        "cv2.imwrite('\\content\\masked.jpg',masked)\n",
        "#plt.imshow(masked)\n",
        "img_inpainted = cv2.inpaint(image, masque, 7, cv.INPAINT_TELEA)\n",
        "#img_inpainted = cv2.inpaint(image, masque, 7, cv.INPAINT_NS)\n",
        "img_inpainted = cv2.inpaint(image, masque, 7, cv.INPAINT_NS)\n",
        "cv.imwrite('content/mask_im.jpg',img_inpainted)\n",
        "plt.imshow(img_inpainted)"
      ]
    },
    {
      "cell_type": "code",
      "execution_count": 4,
      "metadata": {
        "colab": {
          "base_uri": "https://localhost:8080/",
          "height": 636
        },
        "id": "fEW0PG-BRKHl",
        "outputId": "8879a860-0b29-485f-9595-666bbde3101a"
      },
      "outputs": [],
      "source": [
        "mask1 = cv2.bitwise_not(masque)\n",
        "res_FSRFAST = image.copy()\n",
        "\n",
        "cv2.xphoto.inpaint(image, mask1 , res_FSRFAST, cv2.xphoto.INPAINT_FSR_FAST)\n",
        "plt.figure(figsize=(16,16))\n",
        "plt.imshow(res_FSRFAST)"
      ]
    },
    {
      "cell_type": "code",
      "execution_count": 5,
      "metadata": {
        "colab": {
          "base_uri": "https://localhost:8080/",
          "height": 636
        },
        "id": "lEOuTGGKWA2K",
        "outputId": "dceefaa1-7e10-494b-b33e-05cdbe9df40f"
      },
      "outputs": [],
      "source": [
        "mask1 = cv2.bitwise_not(masque)\n",
        "res_FSRBEST = image.copy()\n",
        "\n",
        "cv2.xphoto.inpaint(image, mask1 , res_FSRBEST, cv2.xphoto.INPAINT_FSR_BEST)\n",
        "plt.figure(figsize=(16,16))\n",
        "plt.imshow(res_FSRBEST)"
      ]
    }
  ],
  "metadata": {
    "colab": {
      "provenance": []
    },
    "kernelspec": {
      "display_name": "Python 3",
      "name": "python3"
    },
    "language_info": {
      "codemirror_mode": {
        "name": "ipython",
        "version": 3
      },
      "file_extension": ".py",
      "mimetype": "text/x-python",
      "name": "python",
      "nbconvert_exporter": "python",
      "pygments_lexer": "ipython3",
      "version": "3.10.9"
    }
  },
  "nbformat": 4,
  "nbformat_minor": 0
}
