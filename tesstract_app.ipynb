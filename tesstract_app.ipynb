{
 "cells": [
  {
   "cell_type": "code",
   "execution_count": 1,
   "metadata": {},
   "outputs": [],
   "source": [
    "import cv as cv \n",
    "from PIL import Image\n",
    "import matplotlib.pyplot as plt \n",
    "import numpy \n",
    "import pytesseract\n"
   ]
  },
  {
   "cell_type": "code",
   "execution_count": 2,
   "metadata": {},
   "outputs": [],
   "source": [
    "image_file='data/index_02.JPG'\n",
    "img=cv.imread(image_file)"
   ]
  },
  {
   "cell_type": "code",
   "execution_count": 9,
   "metadata": {},
   "outputs": [],
   "source": [
    "def preprocess(image):\n",
    "    image_gray=cv.cvtColor(image,cv.COLOR_BGR2GRAY)\n",
    "    cv.imwrite('temp_2/image_gray.jpg',image_gray)\n",
    "    image_blur=cv.GaussianBlur(image_gray,(7,7),0)\n",
    "    cv.imwrite('temp_2/image_blur.jpg',image_blur)\n",
    "    image_tresh=cv.threshold(image_blur,0,255,cv.THRESH_BINARY_INV + cv.THRESH_OTSU)[1]\n",
    "    cv.imwrite('temp_2/image_thresh.jpg',image_tresh)#binariser l'image (seuil tresh=0)\n",
    "    kernal = cv.getStructuringElement(cv.MORPH_RECT, (3, 13))\n",
    "    cv.imwrite(\"temp/index_kernal.png\", kernal)\n",
    "    dilate = cv.dilate(image_tresh, kernal, iterations=1)\n",
    "    cv.imwrite(\"temp/index_dilate.png\", dilate)\n",
    "    cnts = cv.findContours(dilate, cv.RETR_EXTERNAL, cv.CHAIN_APPROX_SIMPLE)\n",
    "    cnts = cnts[0] if len(cnts) == 2 else cnts[1]\n",
    "    cnts = sorted(cnts, key=lambda x: cv.boundingRect(x)[0])\n",
    "    return cnts\n"
   ]
  },
  {
   "cell_type": "code",
   "execution_count": 10,
   "metadata": {},
   "outputs": [],
   "source": [
    "cnts=preprocess(img)"
   ]
  },
  {
   "cell_type": "code",
   "execution_count": 14,
   "metadata": {},
   "outputs": [
    {
     "name": "stdout",
     "output_type": "stream",
     "text": [
      "['A.v. E.', '', 'Abacuc propheta 36,5. 319, 29. 373, 23.', '', 'Abagarus rex Edessenorum 382, 13.', '', 'Abdenago 585, 3.', '', 'Abel 26, 11.', '', 'Abigail 606, 6.', '', 'Abraham 26,18, 124,18. 133, 23.', '', '264. 302, 13. 303, 13. 320, 40.', '', '496, 22.', '', 'Absalon 102, 5.', '', 'Acgfredi v. Ecgtridus.', '', 'Achab rex 504, 1.', '', 'Achaz rex 504, 1.', '', 'Achiel 606, 19.', '', 'Achilon 496, 26.', '', 'Adal-, Adel-, Adhel-, Aedel-, Aed', 'Aedil-, Aedil- Edel-, Edil-, Ath', '', 'Ethel-.', 'Aedelbaldusabb.S. Petri Wiremuthen-;', 'sis et S. Pauli Girwensis 110, 28.', \"Aedilberctus, Aedilberthus ep. Ha-'\", 'gulstadensis, antea ep. Candidae|', 'casae sive Witernensis 27,43. 72,16.', 'Adalbertus, Aedilberctus sive Magus,’', 'discipulus et capellanus Arnonis', 'archiep. Salisburg., postea_abb.', 'Ferrariensis 254, 1. 320, 41. 322, 19.)', '416. 418, 14. 422, 10.', 'Adalpertabb.[Tegernseensis ?]497,23..', 'Adalbertus presb. monasterii 8. Mar-', 'tini Turonensis 399, 3.', '', 'Aedilburga, Edilburga, cognom. Euge-', 'nia, abbatissa Flaedanbyrgensis,', 'filia Offae regis Merciorum 78, 1.', '148, 32. 149, 33 [2]7 458.', 'Aethelfleda uxor Aethilredi regis', 'Northanhumbrorum, filia Offae’', 'regis Merciorum 149, 14. 150, 4.', 'Adalgarius ep. [Trecensis?] 510, 10,', 'Adelgisa filia Arichis ducis Bene-', 'ventani 506, 27.', '', 'Adalgisus fil. Desiderii regis Lango-|', 'bardorum 503, 45.', '', 'Epistozae IV.', '', 'Aaron 38, 20. 123, 18. 168,6. 203, 38. |)', '', '‘| |Adalhardus,', '', 'Athel-, Athil-, Aethel-, Aethil-,|', '', 'Aethelhardus, Aethilhardus, Athel-', 'hardus, Athilhardus, Aedelhardus,', 'Aedelhardus, Aedilhardus, Aedil-|', 'hardus, Ethelardus, Edelardus', 'archiep. Cantuariensis Dorovernen-', 'sis ecclesiae metropolitanus 46, 9.', '49,9, 128,2. 145, 31, 147,5. 188. 189.', '192, 24. 193, 5[?]. 374376, v9. 377, 4,', '412. 414,1 (2) 448. 449 [2]. 450 [2]', '451, 8 [2]. 479. 480. 614, 10. 21. 36.', '. Antonius, abb,', 'Corbeiae veteris, fil. Bernhardi', 'rae Caroli Magni 34, 25. 290.', '1. 299. 300. 364. 365. 381. 382,', '509. 566,16; frater: Bernarius;', 'fratres 381,25; soror: Gundrada.’', '\\\\|Adalmondus, Aethelmodus ep. Scire-', '|| burnensis 29, 9.', 'Adelperga uxor Arichis ducis Bene-', 'ventani, filia Desiderii regis Lango-', 'bardorum 506, 5; liberi: Romual-', 'dus, Grimoaldus, Adelgisa.', '\\\\|Adalpert v. Adalbertus.', 'Aedelredus, Aedilredus, Aethelredus,', 'Aethilredus, Hedilredus rex Nor-|', 'thanhumbrorum, fil. Aedelwaldi', 'Moll regis 383,15. 35,8. 41, 19.', '49, 16. 71, 20, 146,2. 147, 10. 150, 6.', '151, 35. 171,17. 377,31; mater:', 'Aedilthyda; uxor: Aethelfleda;', 'famulus: Torchmundus.', '', '422, 10.', 'edilthyda, Edilthruda uxor Aethel-', \"waldi Moll regis Northanhumbro-'\", 'rum, postea abbatissa 120,12. 151,17.', '152, 31 (?]; filius: Aethelredus rex', 'Northanhumbrorum.', '', 'dildryda uxor Ecgfridi regis Nor-', 'thanhumbrorum, postea abbatissa', '(¢ 679) 417,15.', '', 'Aedelwaldus, Aethelwoldus Moll rex', 'Northanhumbrorum 33, 16; uxor:)', 'Aedilthyda; filius: Aethelredus,', 'Adalwinus ep. Reginensis 421, 24.', '422, 21. 424,3.', '', 'Aethiluuinus episcopus 28, 2.', '', 'Adam 124, 201,1. 226,7. 264, 21,', '879, 29. 466, 36-—468, v5. 591, 34.', 'Adam abb. monasterii Gemeticensis’', '', '579.', 'Adaula abbatissa Anglica 112, 4.', 'Adoredus, Hathoredus ep. Hwiccio-|', 'rum [Wigorniensis] 29, 10.', 'Adrianus v. Hadrianus.', 'Adriaticum mare 324, 41.', 'Aedel-, Aedil-, v. Adal-.', 'Aegesippus [i. e. Hegesippus] 501, 11,', 'Aegil v. Eigil.', 'Aegyptus, Egyptus 123,19. 554, 17;', '‘Aegyptii, Aegyptiaci 231. 232, 17,', '467, 36. 567,6. 571,33; Egyptiacae’', 'divitiae 470,22; Aegyptiacae tene-', 'brae 232, 3; Acgypit rex: Pharao;', 'Aegyptiacascola, Aegyptiaci pueri|', 'v. Carolus I imperator.', 'Aeine, Aesne, Esne ep. Herefordensis|', ', 6.', 'elberhtus archiep. Eboracensis, ma-', '‘ister Alcvini abbatis (162, 24]. 167,s.', '171,19]. [177,5]. [224,20]. [239, 28].', '332, 28]. [377,32]. (378, 31]. [429,27', 'Aelfvaldus, Aelfwaldus rex Nor-', 'thanhymbrorum, [Transhymbranae', 'gentis] 20, 27. 28, 11. 43,8. 377, 31.', 'Aelim v. Alim.', 'Aeneades 39, 21; v. Virgilius.', 'Aesculapius, Scolapius 397, 25.', 'Aesne v. Aeine.', 'ethel-, Aethil- v. Adal-.', 'ethiopia 478, 5.', 'fricea 124, 16; Afer: Melchiades', 'papa; Africanum concilium 526,33.', 'fricanus, sc. Scipio Afr. 575, 36.', 'gar 584, 38,', 'gareni, Aggareni 32, 19. 601, 21;', 'v, Saraceni.', 'gathensis synodus 396,', 'inus ep. Constantiensis 117, 32.', '129, 19.', '', '8', '']\n",
      "['Aethelhardus, Aethilhardus, Athel-', 'hardus, Athilhardus, Aedelhardus,', 'Aedelhardus, Aedilhardus, Aedil-|', 'hardus, Ethelardus, Edelardus', 'archiep. Cantuariensis Dorovernen-', '', 'sis ecclesiae metropolitanus 46, 9.', '', '49,9, 128,2. 145, 31, 147,5. 188. 189.', '', '192, 24. 193, 5[?]. 374376, v9. 377, 4,', '', '412. 414,1 (2) 448. 449 [2]. 450 [2]', '', '451, 8 [2]. 479. 480. 614, 10. 21. 36.', '', 'Adalhardus, . Antonius, abb,', 'Corbeiae veteris, fil. Bernhardi', 'rae Caroli Magni 34, 25. 290.', '', '1. 299. 300. 364. 365, 381. 382,', '509. 566,16; frater: Bernarius;', 'fratres 381,25; soror: Gundrada.’', '', 'Adalmondus, Aethelmodus ep. Scire-', 'burnensis 29, 9.', '', 'Adelperga uxor Arichis ducis Bene-', 'ventani, filia Desiderii regis Lango-', 'bardorum 506, 5; liberi: Romual-', 'dus, Grimoaldus, Adelgisa.', '', 'Adalpert v, Adalbertus.', '', 'Aedelredus, Aedilredus, Aethelredus,', 'Aethilredus, Hedilredus rex Nor-|', 'thanhumbrorum, fil. Aedelwaldi', 'Moll regis 33,15. 35,8. 41, 19.', '49, 16. 71, 20, 146,2. 147, 10. 150, 6.', '151, 35. 171,17. 377,31; mater:', 'Aedilthyda; uxor: Aethelfleda;', 'famulus: Torchmundus.', '', 'Adhelricus diaconus, discipulus et}', 'capellanus Arnonis archiep. Salis-', 'burg., postea abbas Ferrariensis,', 'archiepiscopus Senonensis, 418, 14.', '422, 10.', '', 'Aedilthyda, Edilthruda uxor Aethel-', \"waldi Moll regis Northanhumbro-'\", 'rum, postea abbatissa 120,12. 151,17.', '152, 31 (?]; filius: Aethelredus rex', 'Northanhumbrorum.', '', 'Edildryda uxor Ecgtridi regis Nor-', 'thanhumbrorum, postea abbatissa', '(¢ 679) 417,15.', '', 'Aedelwaldus, Aethelwoldus Moll rex’', 'Northanhumbrorum 33, 16; uxor:)', 'Aedilthyda; filius: Aethelredus,', '', 'Adalwinus ep. Reginensis 421, 24.', '422, 21. 424,3.', '', 'Aethiluuinus episcopus 28, 2.', '', 'Adam 124, 201,1. 226,7. 264, 21,', '879, 29. 466, 36-—468, v5. 591, 34.', '', 'Adam abb. monasterii Gemeticensis’', '579.', '', 'Adaula abbatissa Anglica 112, 4.', '', 'Adoredus, Hathoredus ep. Hwiccio-|', 'rum [Wigorniensis] 29, 10.', '', 'Adrianus v. Hadrianus.', '', 'Adriaticum mare 324, 41.', '', 'Aedel-, Aedil-, v. Adal-.', '', 'Aegesippus [i. e. Hegesippus] 501, 11', '', 'Aegil v. Eigil.', '', 'Aegyptus, Egyptus 123,19. 554, 17;', '‘Aegyptii, Aegyptiaci 231. 232, 17.', '467, 36. 567,6. 571,33; Egyptiacae’', 'divitiae 470, 22; Aegyptiacae tene-|', 'brae 232, 3; Aegyptt rex: Pharao;', 'Aegyptiacascola, Aegyptiaci pueri|', 'v. Carolus I imperator.', '', 'Aeine, Aesne, Esne ep. Herefordensis|', '', ', 6.', 'elberhtus archiep. Eboracensis, ma-', '‘ister Alcvini abbatis (162, 24]. 167,s.', '171,19]. [177,5]. [224,20]. [239, 28].', '332, 28]. [377,32]. (378, 31]. [429,27].', '', 'Aelfvaldus, Aelfwaldus rex Nor-', 'thanhymbrorum, [Transhymbranae', 'gentis] 20, 27. 28, 11. 43,8. 377, 31.', '', 'Aelim v. Alim.', '', 'Aeneades 39, 21; v. Virgilius.', '', 'Aesculapius, Scolapius 397, 25.', '', 'Aesne v. Aeine.', 'ethel-, Aethil- v. Adal-.', 'ethiopia 478, 5,', 'fricea 124, 16; Afer: Melchiades', 'papa; Africanum concilium 526,33.', 'fricanus, sc. Scipio Afr. 575, 36.', 'gar 584, 38,', 'gareni, Aggareni 32, 19. 601, 21;', 'v, Saraceni.', 'gathensis synodus 396,', '', 'inus ep. Constantiensis 117, 32.', '129, 19.', '', '']\n",
      "['Aethiluuinus episcopus 28, 2.', '', 'Adam 124. 201,1. 226,7. 264, 21,|', '', '879, 29. 466, 36-—468, v5. 591, 34.', '', 'Adam abb. monasterii Gemeticensis', '', '579.', '', 'Adaula abbatissa Anglica 112, 4.', '', 'Adoredus, Hathoredus ep. Hwiccio-|', 'rum [Wigorniensis] 29, 10.', '', 'Adrianus v. Hadrianus.', '', 'Adriaticum mare 324, 41.', '', 'Aedel-, Aedil-, v. Adal-.', '', 'Aegesippus [i. e. Hegesippus] 501, 11,', '', 'Aegil v. Eigil.', '', 'Aegyptus, Egyptus 123,19. 554, 17;', '‘Aegyptii, Aegyptiaci 231. 232, 17,', '467, 36. 567,6. 571,33; Egyptiacae’', 'divitiae 470, 22; Aegyptiacae tene-|', 'brae 232, 3; Aegyptt rex: Pharao;', 'Aegyptiacascola, Aegyptiaci pueri', 'v. Carolus I imperator.', '', 'Aeine, Aesne, Esne ep. Herefordensis:', '', ', 6.', 'Aelberhtus archiep. Eboracensis, ma-', '‘ister Alcvini abbatis (162, 24]. 167,s.', '171,19]. [177,5]. [224,20]. [239, 28].', '332, 28]. [377,32]. (378, 31]. [429,27].', '', 'Aelfvaldus, Aelfwaldus rex Nor-', 'thanhymbrorum, [Transhymbranae', 'gentis] 20, 27. 28, 11. 43,8. 377, 31.', '', 'Aelim v. Alim.', '', 'Aeneades 39, 21; v. Virgilius.', '', 'Aesculapius, Scolapius 397, 25.', '', 'Aesne v. Aeine.', '', 'Aethel-, Aethil- v. Adal-.', '', 'Aethiopia 478, 5,', '', 'Africa 124, 16; Afer: Melchiades', 'papa; Africanum concilium 526,33.', '', 'Africanus, se. Scipio Afr. 575, 36.', '', 'Agar 584, 3s.', '', 'Agareni, Aggareni 32, 19. 601, 21;', 'v, Saraceni.', '', 'Agathensis synodus 396,', '', 'Aginus ep. Constantiensis 117, 32.', '', '129, 19.', '', '']\n"
     ]
    },
    {
     "data": {
      "text/plain": [
       "True"
      ]
     },
     "execution_count": 14,
     "metadata": {},
     "output_type": "execute_result"
    }
   ],
   "source": [
    "results  = []\n",
    "for c in cnts:\n",
    "    x, y, w, h = cv.boundingRect(c)\n",
    "    if h > 200 and w > 20:\n",
    "        roi = img[y:y+h, x:x+h]\n",
    "        cv.imwrite('temp_2/index_chaque_partie.png',roi)\n",
    "        cv.rectangle(img, (x, y), (x+w, y+h), (36, 255, 12), 2)\n",
    "        ocr_result = pytesseract.image_to_string(roi)\n",
    "        ocr_result = ocr_result.split(\"\\n\")\n",
    "        print(ocr_result)\n",
    "        for item in ocr_result:\n",
    "            results.append(item)\n",
    "cv.imwrite(\"temp/index_bbox_new.png\", img)"
   ]
  },
  {
   "cell_type": "code",
   "execution_count": 15,
   "metadata": {},
   "outputs": [
    {
     "name": "stdout",
     "output_type": "stream",
     "text": [
      "['A.v. E.', '', 'Abacuc propheta 36,5. 319, 29. 373, 23.', '', 'Abagarus rex Edessenorum 382, 13.', '', 'Abdenago 585, 3.', '', 'Abel 26, 11.', '', 'Abigail 606, 6.', '', 'Abraham 26,18, 124,18. 133, 23.', '', '264. 302, 13. 303, 13. 320, 40.', '', '496, 22.', '', 'Absalon 102, 5.', '', 'Acgfredi v. Ecgtridus.', '', 'Achab rex 504, 1.', '', 'Achaz rex 504, 1.', '', 'Achiel 606, 19.', '', 'Achilon 496, 26.', '', 'Adal-, Adel-, Adhel-, Aedel-, Aed', 'Aedil-, Aedil- Edel-, Edil-, Ath', '', 'Ethel-.', 'Aedelbaldusabb.S. Petri Wiremuthen-;', 'sis et S. Pauli Girwensis 110, 28.', \"Aedilberctus, Aedilberthus ep. Ha-'\", 'gulstadensis, antea ep. Candidae|', 'casae sive Witernensis 27,43. 72,16.', 'Adalbertus, Aedilberctus sive Magus,’', 'discipulus et capellanus Arnonis', 'archiep. Salisburg., postea_abb.', 'Ferrariensis 254, 1. 320, 41. 322, 19.)', '416. 418, 14. 422, 10.', 'Adalpertabb.[Tegernseensis ?]497,23..', 'Adalbertus presb. monasterii 8. Mar-', 'tini Turonensis 399, 3.', '', 'Aedilburga, Edilburga, cognom. Euge-', 'nia, abbatissa Flaedanbyrgensis,', 'filia Offae regis Merciorum 78, 1.', '148, 32. 149, 33 [2]7 458.', 'Aethelfleda uxor Aethilredi regis', 'Northanhumbrorum, filia Offae’', 'regis Merciorum 149, 14. 150, 4.', 'Adalgarius ep. [Trecensis?] 510, 10,', 'Adelgisa filia Arichis ducis Bene-', 'ventani 506, 27.', '', 'Adalgisus fil. Desiderii regis Lango-|', 'bardorum 503, 45.', '', 'Epistozae IV.', '', 'Aaron 38, 20. 123, 18. 168,6. 203, 38. |)', '', '‘| |Adalhardus,', '', 'Athel-, Athil-, Aethel-, Aethil-,|', '', 'Aethelhardus, Aethilhardus, Athel-', 'hardus, Athilhardus, Aedelhardus,', 'Aedelhardus, Aedilhardus, Aedil-|', 'hardus, Ethelardus, Edelardus', 'archiep. Cantuariensis Dorovernen-', 'sis ecclesiae metropolitanus 46, 9.', '49,9, 128,2. 145, 31, 147,5. 188. 189.', '192, 24. 193, 5[?]. 374376, v9. 377, 4,', '412. 414,1 (2) 448. 449 [2]. 450 [2]', '451, 8 [2]. 479. 480. 614, 10. 21. 36.', '. Antonius, abb,', 'Corbeiae veteris, fil. Bernhardi', 'rae Caroli Magni 34, 25. 290.', '1. 299. 300. 364. 365. 381. 382,', '509. 566,16; frater: Bernarius;', 'fratres 381,25; soror: Gundrada.’', '\\\\|Adalmondus, Aethelmodus ep. Scire-', '|| burnensis 29, 9.', 'Adelperga uxor Arichis ducis Bene-', 'ventani, filia Desiderii regis Lango-', 'bardorum 506, 5; liberi: Romual-', 'dus, Grimoaldus, Adelgisa.', '\\\\|Adalpert v. Adalbertus.', 'Aedelredus, Aedilredus, Aethelredus,', 'Aethilredus, Hedilredus rex Nor-|', 'thanhumbrorum, fil. Aedelwaldi', 'Moll regis 383,15. 35,8. 41, 19.', '49, 16. 71, 20, 146,2. 147, 10. 150, 6.', '151, 35. 171,17. 377,31; mater:', 'Aedilthyda; uxor: Aethelfleda;', 'famulus: Torchmundus.', '', '422, 10.', 'edilthyda, Edilthruda uxor Aethel-', \"waldi Moll regis Northanhumbro-'\", 'rum, postea abbatissa 120,12. 151,17.', '152, 31 (?]; filius: Aethelredus rex', 'Northanhumbrorum.', '', 'dildryda uxor Ecgfridi regis Nor-', 'thanhumbrorum, postea abbatissa', '(¢ 679) 417,15.', '', 'Aedelwaldus, Aethelwoldus Moll rex', 'Northanhumbrorum 33, 16; uxor:)', 'Aedilthyda; filius: Aethelredus,', 'Adalwinus ep. Reginensis 421, 24.', '422, 21. 424,3.', '', 'Aethiluuinus episcopus 28, 2.', '', 'Adam 124, 201,1. 226,7. 264, 21,', '879, 29. 466, 36-—468, v5. 591, 34.', 'Adam abb. monasterii Gemeticensis’', '', '579.', 'Adaula abbatissa Anglica 112, 4.', 'Adoredus, Hathoredus ep. Hwiccio-|', 'rum [Wigorniensis] 29, 10.', 'Adrianus v. Hadrianus.', 'Adriaticum mare 324, 41.', 'Aedel-, Aedil-, v. Adal-.', 'Aegesippus [i. e. Hegesippus] 501, 11,', 'Aegil v. Eigil.', 'Aegyptus, Egyptus 123,19. 554, 17;', '‘Aegyptii, Aegyptiaci 231. 232, 17,', '467, 36. 567,6. 571,33; Egyptiacae’', 'divitiae 470,22; Aegyptiacae tene-', 'brae 232, 3; Acgypit rex: Pharao;', 'Aegyptiacascola, Aegyptiaci pueri|', 'v. Carolus I imperator.', 'Aeine, Aesne, Esne ep. Herefordensis|', ', 6.', 'elberhtus archiep. Eboracensis, ma-', '‘ister Alcvini abbatis (162, 24]. 167,s.', '171,19]. [177,5]. [224,20]. [239, 28].', '332, 28]. [377,32]. (378, 31]. [429,27', 'Aelfvaldus, Aelfwaldus rex Nor-', 'thanhymbrorum, [Transhymbranae', 'gentis] 20, 27. 28, 11. 43,8. 377, 31.', 'Aelim v. Alim.', 'Aeneades 39, 21; v. Virgilius.', 'Aesculapius, Scolapius 397, 25.', 'Aesne v. Aeine.', 'ethel-, Aethil- v. Adal-.', 'ethiopia 478, 5.', 'fricea 124, 16; Afer: Melchiades', 'papa; Africanum concilium 526,33.', 'fricanus, sc. Scipio Afr. 575, 36.', 'gar 584, 38,', 'gareni, Aggareni 32, 19. 601, 21;', 'v, Saraceni.', 'gathensis synodus 396,', 'inus ep. Constantiensis 117, 32.', '129, 19.', '', '8', '', 'Aethelhardus, Aethilhardus, Athel-', 'hardus, Athilhardus, Aedelhardus,', 'Aedelhardus, Aedilhardus, Aedil-|', 'hardus, Ethelardus, Edelardus', 'archiep. Cantuariensis Dorovernen-', '', 'sis ecclesiae metropolitanus 46, 9.', '', '49,9, 128,2. 145, 31, 147,5. 188. 189.', '', '192, 24. 193, 5[?]. 374376, v9. 377, 4,', '', '412. 414,1 (2) 448. 449 [2]. 450 [2]', '', '451, 8 [2]. 479. 480. 614, 10. 21. 36.', '', 'Adalhardus, . Antonius, abb,', 'Corbeiae veteris, fil. Bernhardi', 'rae Caroli Magni 34, 25. 290.', '', '1. 299. 300. 364. 365, 381. 382,', '509. 566,16; frater: Bernarius;', 'fratres 381,25; soror: Gundrada.’', '', 'Adalmondus, Aethelmodus ep. Scire-', 'burnensis 29, 9.', '', 'Adelperga uxor Arichis ducis Bene-', 'ventani, filia Desiderii regis Lango-', 'bardorum 506, 5; liberi: Romual-', 'dus, Grimoaldus, Adelgisa.', '', 'Adalpert v, Adalbertus.', '', 'Aedelredus, Aedilredus, Aethelredus,', 'Aethilredus, Hedilredus rex Nor-|', 'thanhumbrorum, fil. Aedelwaldi', 'Moll regis 33,15. 35,8. 41, 19.', '49, 16. 71, 20, 146,2. 147, 10. 150, 6.', '151, 35. 171,17. 377,31; mater:', 'Aedilthyda; uxor: Aethelfleda;', 'famulus: Torchmundus.', '', 'Adhelricus diaconus, discipulus et}', 'capellanus Arnonis archiep. Salis-', 'burg., postea abbas Ferrariensis,', 'archiepiscopus Senonensis, 418, 14.', '422, 10.', '', 'Aedilthyda, Edilthruda uxor Aethel-', \"waldi Moll regis Northanhumbro-'\", 'rum, postea abbatissa 120,12. 151,17.', '152, 31 (?]; filius: Aethelredus rex', 'Northanhumbrorum.', '', 'Edildryda uxor Ecgtridi regis Nor-', 'thanhumbrorum, postea abbatissa', '(¢ 679) 417,15.', '', 'Aedelwaldus, Aethelwoldus Moll rex’', 'Northanhumbrorum 33, 16; uxor:)', 'Aedilthyda; filius: Aethelredus,', '', 'Adalwinus ep. Reginensis 421, 24.', '422, 21. 424,3.', '', 'Aethiluuinus episcopus 28, 2.', '', 'Adam 124, 201,1. 226,7. 264, 21,', '879, 29. 466, 36-—468, v5. 591, 34.', '', 'Adam abb. monasterii Gemeticensis’', '579.', '', 'Adaula abbatissa Anglica 112, 4.', '', 'Adoredus, Hathoredus ep. Hwiccio-|', 'rum [Wigorniensis] 29, 10.', '', 'Adrianus v. Hadrianus.', '', 'Adriaticum mare 324, 41.', '', 'Aedel-, Aedil-, v. Adal-.', '', 'Aegesippus [i. e. Hegesippus] 501, 11', '', 'Aegil v. Eigil.', '', 'Aegyptus, Egyptus 123,19. 554, 17;', '‘Aegyptii, Aegyptiaci 231. 232, 17.', '467, 36. 567,6. 571,33; Egyptiacae’', 'divitiae 470, 22; Aegyptiacae tene-|', 'brae 232, 3; Aegyptt rex: Pharao;', 'Aegyptiacascola, Aegyptiaci pueri|', 'v. Carolus I imperator.', '', 'Aeine, Aesne, Esne ep. Herefordensis|', '', ', 6.', 'elberhtus archiep. Eboracensis, ma-', '‘ister Alcvini abbatis (162, 24]. 167,s.', '171,19]. [177,5]. [224,20]. [239, 28].', '332, 28]. [377,32]. (378, 31]. [429,27].', '', 'Aelfvaldus, Aelfwaldus rex Nor-', 'thanhymbrorum, [Transhymbranae', 'gentis] 20, 27. 28, 11. 43,8. 377, 31.', '', 'Aelim v. Alim.', '', 'Aeneades 39, 21; v. Virgilius.', '', 'Aesculapius, Scolapius 397, 25.', '', 'Aesne v. Aeine.', 'ethel-, Aethil- v. Adal-.', 'ethiopia 478, 5,', 'fricea 124, 16; Afer: Melchiades', 'papa; Africanum concilium 526,33.', 'fricanus, sc. Scipio Afr. 575, 36.', 'gar 584, 38,', 'gareni, Aggareni 32, 19. 601, 21;', 'v, Saraceni.', 'gathensis synodus 396,', '', 'inus ep. Constantiensis 117, 32.', '129, 19.', '', '', 'Aethiluuinus episcopus 28, 2.', '', 'Adam 124. 201,1. 226,7. 264, 21,|', '', '879, 29. 466, 36-—468, v5. 591, 34.', '', 'Adam abb. monasterii Gemeticensis', '', '579.', '', 'Adaula abbatissa Anglica 112, 4.', '', 'Adoredus, Hathoredus ep. Hwiccio-|', 'rum [Wigorniensis] 29, 10.', '', 'Adrianus v. Hadrianus.', '', 'Adriaticum mare 324, 41.', '', 'Aedel-, Aedil-, v. Adal-.', '', 'Aegesippus [i. e. Hegesippus] 501, 11,', '', 'Aegil v. Eigil.', '', 'Aegyptus, Egyptus 123,19. 554, 17;', '‘Aegyptii, Aegyptiaci 231. 232, 17,', '467, 36. 567,6. 571,33; Egyptiacae’', 'divitiae 470, 22; Aegyptiacae tene-|', 'brae 232, 3; Aegyptt rex: Pharao;', 'Aegyptiacascola, Aegyptiaci pueri', 'v. Carolus I imperator.', '', 'Aeine, Aesne, Esne ep. Herefordensis:', '', ', 6.', 'Aelberhtus archiep. Eboracensis, ma-', '‘ister Alcvini abbatis (162, 24]. 167,s.', '171,19]. [177,5]. [224,20]. [239, 28].', '332, 28]. [377,32]. (378, 31]. [429,27].', '', 'Aelfvaldus, Aelfwaldus rex Nor-', 'thanhymbrorum, [Transhymbranae', 'gentis] 20, 27. 28, 11. 43,8. 377, 31.', '', 'Aelim v. Alim.', '', 'Aeneades 39, 21; v. Virgilius.', '', 'Aesculapius, Scolapius 397, 25.', '', 'Aesne v. Aeine.', '', 'Aethel-, Aethil- v. Adal-.', '', 'Aethiopia 478, 5,', '', 'Africa 124, 16; Afer: Melchiades', 'papa; Africanum concilium 526,33.', '', 'Africanus, se. Scipio Afr. 575, 36.', '', 'Agar 584, 3s.', '', 'Agareni, Aggareni 32, 19. 601, 21;', 'v, Saraceni.', '', 'Agathensis synodus 396,', '', 'Aginus ep. Constantiensis 117, 32.', '', '129, 19.', '', '']\n"
     ]
    }
   ],
   "source": [
    "print(results)"
   ]
  },
  {
   "cell_type": "code",
   "execution_count": 16,
   "metadata": {},
   "outputs": [],
   "source": [
    "entities = []\n",
    "for item in results:\n",
    "    item = item.strip().replace(\"\\n\", \"\") \n",
    "    item = item.split(\" \")[0]\n",
    "    if len(item) > 2: \n",
    "        if item[0] == \"A\" and \"-\" not in item: \n",
    "            item = item.split(\".\")[0].replace(\",\", \"\").replace(\";\", \"\")\n",
    "            entities.append(item)"
   ]
  },
  {
   "cell_type": "code",
   "execution_count": 18,
   "metadata": {},
   "outputs": [
    {
     "name": "stdout",
     "output_type": "stream",
     "text": [
      "['Adalgarius', 'A', 'Achab', 'Adriaticum', 'Abacuc', 'Abigail', 'Adelgisa', 'Aeneades', 'Abraham', 'Adalwinus', 'Adalpertabb', 'Adelperga', 'Adaula', 'Africa', 'Aegil', 'Aelim', 'Aeine', 'Aelfvaldus', 'Adalmondus', 'Aelberhtus', 'Aginus', 'Aedilberctus', 'Adoredus', 'Adrianus', 'Adalbertus', 'Aedilburga', 'Aesculapius', 'Adalhardus', 'Aedilthyda', 'Absalon', 'Abagarus', 'Aethiopia', 'Aaron', 'Aedelwaldus', 'Aethelhardus', 'Aedelhardus', 'Agathensis', 'Achiel', 'Aegyptus', 'Abdenago', 'Aegyptiacascola', 'Achilon', 'Agareni', 'Aegesippus', 'Aethiluuinus', 'Aedelbaldusabb', 'Adhelricus', 'Adalpert', 'Aethelfleda', 'Aethilredus', 'Aesne', 'Africanus', 'Abel', 'Achaz', 'Acgfredi', 'Adam', 'Agar', 'Adalgisus', 'Aedelredus']\n"
     ]
    }
   ],
   "source": [
    "entities=list(set(entities))#evite doublons \n",
    "print(entities)"
   ]
  }
 ],
 "metadata": {
  "kernelspec": {
   "display_name": "Python 3.9.12 ('base')",
   "language": "python",
   "name": "python3"
  },
  "language_info": {
   "codemirror_mode": {
    "name": "ipython",
    "version": 3
   },
   "file_extension": ".py",
   "mimetype": "text/x-python",
   "name": "python",
   "nbconvert_exporter": "python",
   "pygments_lexer": "ipython3",
   "version": "3.9.12"
  },
  "orig_nbformat": 4,
  "vscode": {
   "interpreter": {
    "hash": "2043299c89c8cd0b4d1a6f5cf4529bd58e6a4e0fe3181a25e0d328c821cdc5c5"
   }
  }
 },
 "nbformat": 4,
 "nbformat_minor": 2
}
